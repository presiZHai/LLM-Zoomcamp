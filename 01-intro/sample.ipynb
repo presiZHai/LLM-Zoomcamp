{
 "cells": [
  {
   "cell_type": "code",
   "execution_count": 1,
   "id": "d244bc3c-df74-477c-9c44-1815a8634236",
   "metadata": {},
   "outputs": [],
   "source": [
    "import openai\n",
    "from openai import OpenAI"
   ]
  },
  {
   "cell_type": "code",
   "execution_count": 2,
   "id": "eb75570c-74e4-47ee-88b9-38ac42a7185c",
   "metadata": {},
   "outputs": [],
   "source": [
    "client = OpenAI()"
   ]
  },
  {
   "cell_type": "code",
   "execution_count": 5,
   "id": "e7d0267d-d5d3-4429-beb3-3af8056346e7",
   "metadata": {},
   "outputs": [
    {
     "data": {
      "text/plain": [
       "\"Whether it's too late to join a course depends on several factors, such as:\\n1. **Course Start Date:** If the course has already commenced, some institutions allow late registrations within a certain period, while others may close enrollment once the course begins.\\n2. **Institution Policies:** Different educational institutions have varying policies regarding late enrollment. It's worth checking the specific guidelines of the institution offering the course.\\n3. **Course Type:** Online courses, especially those that are self-paced, may have more flexible enrollment options compared to traditional in-person courses.\\n4. **Availability of Slots:** Some courses have a limited number of spots, and popular courses might fill up quickly.\\n\\nIf you're considering joining a course and unsure about the deadline, it's best to contact the course provider or the institution's admissions office directly to get the most accurate and current information. They can also advise you on any potential late enrollment procedures or additional steps you might need to take.\""
      ]
     },
     "execution_count": 5,
     "metadata": {},
     "output_type": "execute_result"
    }
   ],
   "source": [
    "response = client.chat.completions.create(\n",
    "    model='gpt-4o',\n",
    "    messages=[{\"role\": \"user\", \"content\": \"is it too late to join the course?\"}]\n",
    ")\n",
    "\n",
    "response.choices[0].message.content"
   ]
  },
  {
   "cell_type": "code",
   "execution_count": null,
   "id": "b7223c47-fcf7-468e-8716-604f33effc8a",
   "metadata": {},
   "outputs": [],
   "source": []
  }
 ],
 "metadata": {
  "kernelspec": {
   "display_name": "Python 3 (ipykernel)",
   "language": "python",
   "name": "python3"
  },
  "language_info": {
   "codemirror_mode": {
    "name": "ipython",
    "version": 3
   },
   "file_extension": ".py",
   "mimetype": "text/x-python",
   "name": "python",
   "nbconvert_exporter": "python",
   "pygments_lexer": "ipython3",
   "version": "3.10.13"
  }
 },
 "nbformat": 4,
 "nbformat_minor": 5
}
